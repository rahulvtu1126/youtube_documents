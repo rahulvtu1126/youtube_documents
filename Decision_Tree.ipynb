{
 "cells": [
  {
   "cell_type": "code",
   "execution_count": 1,
   "id": "f8820b4a",
   "metadata": {},
   "outputs": [],
   "source": [
    "import pandas as pd\n",
    "import numpy as np\n",
    "import matplotlib.pyplot as plt\n",
    "import seaborn as sns"
   ]
  },
  {
   "cell_type": "code",
   "execution_count": 10,
   "id": "a961d7de",
   "metadata": {},
   "outputs": [],
   "source": [
    "data= pd.read_csv('H:\\Dataset\\creditcard.csv', header='infer',encoding='utf-8' )"
   ]
  },
  {
   "cell_type": "code",
   "execution_count": 11,
   "id": "227f18fb",
   "metadata": {},
   "outputs": [
    {
     "name": "stdout",
     "output_type": "stream",
     "text": [
      "<class 'pandas.core.frame.DataFrame'>\n",
      "RangeIndex: 20000 entries, 0 to 19999\n",
      "Data columns (total 31 columns):\n",
      " #   Column  Non-Null Count  Dtype  \n",
      "---  ------  --------------  -----  \n",
      " 0   Time    20000 non-null  int64  \n",
      " 1   V1      20000 non-null  float64\n",
      " 2   V2      20000 non-null  float64\n",
      " 3   V3      20000 non-null  float64\n",
      " 4   V4      20000 non-null  float64\n",
      " 5   V5      20000 non-null  float64\n",
      " 6   V6      20000 non-null  float64\n",
      " 7   V7      20000 non-null  float64\n",
      " 8   V8      20000 non-null  float64\n",
      " 9   V9      20000 non-null  float64\n",
      " 10  V10     20000 non-null  float64\n",
      " 11  V11     20000 non-null  float64\n",
      " 12  V12     20000 non-null  float64\n",
      " 13  V13     20000 non-null  float64\n",
      " 14  V14     20000 non-null  float64\n",
      " 15  V15     20000 non-null  float64\n",
      " 16  V16     20000 non-null  float64\n",
      " 17  V17     20000 non-null  float64\n",
      " 18  V18     20000 non-null  float64\n",
      " 19  V19     20000 non-null  float64\n",
      " 20  V20     20000 non-null  float64\n",
      " 21  V21     20000 non-null  float64\n",
      " 22  V22     20000 non-null  float64\n",
      " 23  V23     20000 non-null  float64\n",
      " 24  V24     20000 non-null  float64\n",
      " 25  V25     20000 non-null  float64\n",
      " 26  V26     20000 non-null  float64\n",
      " 27  V27     20000 non-null  float64\n",
      " 28  V28     20000 non-null  float64\n",
      " 29  Amount  20000 non-null  float64\n",
      " 30  Class   20000 non-null  int64  \n",
      "dtypes: float64(29), int64(2)\n",
      "memory usage: 4.7 MB\n"
     ]
    }
   ],
   "source": [
    "data.info()"
   ]
  },
  {
   "cell_type": "code",
   "execution_count": 13,
   "id": "4ad54cbf",
   "metadata": {},
   "outputs": [
    {
     "data": {
      "text/plain": [
       "(20000, 31)"
      ]
     },
     "execution_count": 13,
     "metadata": {},
     "output_type": "execute_result"
    }
   ],
   "source": [
    "data.shape"
   ]
  },
  {
   "cell_type": "code",
   "execution_count": 14,
   "id": "2bf5fcd4",
   "metadata": {},
   "outputs": [
    {
     "data": {
      "text/html": [
       "<div>\n",
       "<style scoped>\n",
       "    .dataframe tbody tr th:only-of-type {\n",
       "        vertical-align: middle;\n",
       "    }\n",
       "\n",
       "    .dataframe tbody tr th {\n",
       "        vertical-align: top;\n",
       "    }\n",
       "\n",
       "    .dataframe thead th {\n",
       "        text-align: right;\n",
       "    }\n",
       "</style>\n",
       "<table border=\"1\" class=\"dataframe\">\n",
       "  <thead>\n",
       "    <tr style=\"text-align: right;\">\n",
       "      <th></th>\n",
       "      <th>Time</th>\n",
       "      <th>V1</th>\n",
       "      <th>V2</th>\n",
       "      <th>V3</th>\n",
       "      <th>V4</th>\n",
       "      <th>V5</th>\n",
       "      <th>V6</th>\n",
       "      <th>V7</th>\n",
       "      <th>V8</th>\n",
       "      <th>V9</th>\n",
       "      <th>...</th>\n",
       "      <th>V21</th>\n",
       "      <th>V22</th>\n",
       "      <th>V23</th>\n",
       "      <th>V24</th>\n",
       "      <th>V25</th>\n",
       "      <th>V26</th>\n",
       "      <th>V27</th>\n",
       "      <th>V28</th>\n",
       "      <th>Amount</th>\n",
       "      <th>Class</th>\n",
       "    </tr>\n",
       "  </thead>\n",
       "  <tbody>\n",
       "    <tr>\n",
       "      <th>0</th>\n",
       "      <td>0</td>\n",
       "      <td>-1.359807</td>\n",
       "      <td>-0.072781</td>\n",
       "      <td>2.536347</td>\n",
       "      <td>1.378155</td>\n",
       "      <td>-0.338321</td>\n",
       "      <td>0.462388</td>\n",
       "      <td>0.239599</td>\n",
       "      <td>0.098698</td>\n",
       "      <td>0.363787</td>\n",
       "      <td>...</td>\n",
       "      <td>-0.018307</td>\n",
       "      <td>0.277838</td>\n",
       "      <td>-0.110474</td>\n",
       "      <td>0.066928</td>\n",
       "      <td>0.128539</td>\n",
       "      <td>-0.189115</td>\n",
       "      <td>0.133558</td>\n",
       "      <td>-0.021053</td>\n",
       "      <td>149.62</td>\n",
       "      <td>0</td>\n",
       "    </tr>\n",
       "    <tr>\n",
       "      <th>1</th>\n",
       "      <td>0</td>\n",
       "      <td>1.191857</td>\n",
       "      <td>0.266151</td>\n",
       "      <td>0.166480</td>\n",
       "      <td>0.448154</td>\n",
       "      <td>0.060018</td>\n",
       "      <td>-0.082361</td>\n",
       "      <td>-0.078803</td>\n",
       "      <td>0.085102</td>\n",
       "      <td>-0.255425</td>\n",
       "      <td>...</td>\n",
       "      <td>-0.225775</td>\n",
       "      <td>-0.638672</td>\n",
       "      <td>0.101288</td>\n",
       "      <td>-0.339846</td>\n",
       "      <td>0.167170</td>\n",
       "      <td>0.125895</td>\n",
       "      <td>-0.008983</td>\n",
       "      <td>0.014724</td>\n",
       "      <td>2.69</td>\n",
       "      <td>0</td>\n",
       "    </tr>\n",
       "    <tr>\n",
       "      <th>2</th>\n",
       "      <td>1</td>\n",
       "      <td>-1.358354</td>\n",
       "      <td>-1.340163</td>\n",
       "      <td>1.773209</td>\n",
       "      <td>0.379780</td>\n",
       "      <td>-0.503198</td>\n",
       "      <td>1.800499</td>\n",
       "      <td>0.791461</td>\n",
       "      <td>0.247676</td>\n",
       "      <td>-1.514654</td>\n",
       "      <td>...</td>\n",
       "      <td>0.247998</td>\n",
       "      <td>0.771679</td>\n",
       "      <td>0.909412</td>\n",
       "      <td>-0.689281</td>\n",
       "      <td>-0.327642</td>\n",
       "      <td>-0.139097</td>\n",
       "      <td>-0.055353</td>\n",
       "      <td>-0.059752</td>\n",
       "      <td>378.66</td>\n",
       "      <td>0</td>\n",
       "    </tr>\n",
       "    <tr>\n",
       "      <th>3</th>\n",
       "      <td>1</td>\n",
       "      <td>-0.966272</td>\n",
       "      <td>-0.185226</td>\n",
       "      <td>1.792993</td>\n",
       "      <td>-0.863291</td>\n",
       "      <td>-0.010309</td>\n",
       "      <td>1.247203</td>\n",
       "      <td>0.237609</td>\n",
       "      <td>0.377436</td>\n",
       "      <td>-1.387024</td>\n",
       "      <td>...</td>\n",
       "      <td>-0.108300</td>\n",
       "      <td>0.005274</td>\n",
       "      <td>-0.190321</td>\n",
       "      <td>-1.175575</td>\n",
       "      <td>0.647376</td>\n",
       "      <td>-0.221929</td>\n",
       "      <td>0.062723</td>\n",
       "      <td>0.061458</td>\n",
       "      <td>123.50</td>\n",
       "      <td>0</td>\n",
       "    </tr>\n",
       "    <tr>\n",
       "      <th>4</th>\n",
       "      <td>2</td>\n",
       "      <td>-1.158233</td>\n",
       "      <td>0.877737</td>\n",
       "      <td>1.548718</td>\n",
       "      <td>0.403034</td>\n",
       "      <td>-0.407193</td>\n",
       "      <td>0.095921</td>\n",
       "      <td>0.592941</td>\n",
       "      <td>-0.270533</td>\n",
       "      <td>0.817739</td>\n",
       "      <td>...</td>\n",
       "      <td>-0.009431</td>\n",
       "      <td>0.798278</td>\n",
       "      <td>-0.137458</td>\n",
       "      <td>0.141267</td>\n",
       "      <td>-0.206010</td>\n",
       "      <td>0.502292</td>\n",
       "      <td>0.219422</td>\n",
       "      <td>0.215153</td>\n",
       "      <td>69.99</td>\n",
       "      <td>0</td>\n",
       "    </tr>\n",
       "  </tbody>\n",
       "</table>\n",
       "<p>5 rows × 31 columns</p>\n",
       "</div>"
      ],
      "text/plain": [
       "   Time        V1        V2        V3        V4        V5        V6        V7  \\\n",
       "0     0 -1.359807 -0.072781  2.536347  1.378155 -0.338321  0.462388  0.239599   \n",
       "1     0  1.191857  0.266151  0.166480  0.448154  0.060018 -0.082361 -0.078803   \n",
       "2     1 -1.358354 -1.340163  1.773209  0.379780 -0.503198  1.800499  0.791461   \n",
       "3     1 -0.966272 -0.185226  1.792993 -0.863291 -0.010309  1.247203  0.237609   \n",
       "4     2 -1.158233  0.877737  1.548718  0.403034 -0.407193  0.095921  0.592941   \n",
       "\n",
       "         V8        V9  ...       V21       V22       V23       V24       V25  \\\n",
       "0  0.098698  0.363787  ... -0.018307  0.277838 -0.110474  0.066928  0.128539   \n",
       "1  0.085102 -0.255425  ... -0.225775 -0.638672  0.101288 -0.339846  0.167170   \n",
       "2  0.247676 -1.514654  ...  0.247998  0.771679  0.909412 -0.689281 -0.327642   \n",
       "3  0.377436 -1.387024  ... -0.108300  0.005274 -0.190321 -1.175575  0.647376   \n",
       "4 -0.270533  0.817739  ... -0.009431  0.798278 -0.137458  0.141267 -0.206010   \n",
       "\n",
       "        V26       V27       V28  Amount  Class  \n",
       "0 -0.189115  0.133558 -0.021053  149.62      0  \n",
       "1  0.125895 -0.008983  0.014724    2.69      0  \n",
       "2 -0.139097 -0.055353 -0.059752  378.66      0  \n",
       "3 -0.221929  0.062723  0.061458  123.50      0  \n",
       "4  0.502292  0.219422  0.215153   69.99      0  \n",
       "\n",
       "[5 rows x 31 columns]"
      ]
     },
     "execution_count": 14,
     "metadata": {},
     "output_type": "execute_result"
    }
   ],
   "source": [
    "data.head()"
   ]
  },
  {
   "cell_type": "code",
   "execution_count": 15,
   "id": "41a3c58e",
   "metadata": {},
   "outputs": [
    {
     "data": {
      "text/plain": [
       "Time      0\n",
       "V1        0\n",
       "V2        0\n",
       "V3        0\n",
       "V4        0\n",
       "V5        0\n",
       "V6        0\n",
       "V7        0\n",
       "V8        0\n",
       "V9        0\n",
       "V10       0\n",
       "V11       0\n",
       "V12       0\n",
       "V13       0\n",
       "V14       0\n",
       "V15       0\n",
       "V16       0\n",
       "V17       0\n",
       "V18       0\n",
       "V19       0\n",
       "V20       0\n",
       "V21       0\n",
       "V22       0\n",
       "V23       0\n",
       "V24       0\n",
       "V25       0\n",
       "V26       0\n",
       "V27       0\n",
       "V28       0\n",
       "Amount    0\n",
       "Class     0\n",
       "dtype: int64"
      ]
     },
     "execution_count": 15,
     "metadata": {},
     "output_type": "execute_result"
    }
   ],
   "source": [
    "data.isna().sum()"
   ]
  },
  {
   "cell_type": "code",
   "execution_count": 21,
   "id": "066c1d5c",
   "metadata": {},
   "outputs": [
    {
     "data": {
      "text/plain": [
       "0    19936\n",
       "1       64\n",
       "Name: Class, dtype: int64"
      ]
     },
     "execution_count": 21,
     "metadata": {},
     "output_type": "execute_result"
    }
   ],
   "source": [
    "# class is our target column , 1 for fraudulent transactions, 0 otherwise\n",
    "data['Class'].value_counts()"
   ]
  },
  {
   "cell_type": "code",
   "execution_count": 24,
   "id": "1f9ed68f",
   "metadata": {},
   "outputs": [
    {
     "data": {
      "text/html": [
       "<div>\n",
       "<style scoped>\n",
       "    .dataframe tbody tr th:only-of-type {\n",
       "        vertical-align: middle;\n",
       "    }\n",
       "\n",
       "    .dataframe tbody tr th {\n",
       "        vertical-align: top;\n",
       "    }\n",
       "\n",
       "    .dataframe thead th {\n",
       "        text-align: right;\n",
       "    }\n",
       "</style>\n",
       "<table border=\"1\" class=\"dataframe\">\n",
       "  <thead>\n",
       "    <tr style=\"text-align: right;\">\n",
       "      <th></th>\n",
       "      <th>Time</th>\n",
       "      <th>V1</th>\n",
       "      <th>V2</th>\n",
       "      <th>V3</th>\n",
       "      <th>V4</th>\n",
       "      <th>V5</th>\n",
       "      <th>V6</th>\n",
       "      <th>V7</th>\n",
       "      <th>V8</th>\n",
       "      <th>V9</th>\n",
       "      <th>...</th>\n",
       "      <th>V20</th>\n",
       "      <th>V21</th>\n",
       "      <th>V22</th>\n",
       "      <th>V23</th>\n",
       "      <th>V24</th>\n",
       "      <th>V25</th>\n",
       "      <th>V26</th>\n",
       "      <th>V27</th>\n",
       "      <th>V28</th>\n",
       "      <th>Amount</th>\n",
       "    </tr>\n",
       "  </thead>\n",
       "  <tbody>\n",
       "    <tr>\n",
       "      <th>0</th>\n",
       "      <td>0</td>\n",
       "      <td>-1.359807</td>\n",
       "      <td>-0.072781</td>\n",
       "      <td>2.536347</td>\n",
       "      <td>1.378155</td>\n",
       "      <td>-0.338321</td>\n",
       "      <td>0.462388</td>\n",
       "      <td>0.239599</td>\n",
       "      <td>0.098698</td>\n",
       "      <td>0.363787</td>\n",
       "      <td>...</td>\n",
       "      <td>0.251412</td>\n",
       "      <td>-0.018307</td>\n",
       "      <td>0.277838</td>\n",
       "      <td>-0.110474</td>\n",
       "      <td>0.066928</td>\n",
       "      <td>0.128539</td>\n",
       "      <td>-0.189115</td>\n",
       "      <td>0.133558</td>\n",
       "      <td>-0.021053</td>\n",
       "      <td>149.62</td>\n",
       "    </tr>\n",
       "    <tr>\n",
       "      <th>1</th>\n",
       "      <td>0</td>\n",
       "      <td>1.191857</td>\n",
       "      <td>0.266151</td>\n",
       "      <td>0.166480</td>\n",
       "      <td>0.448154</td>\n",
       "      <td>0.060018</td>\n",
       "      <td>-0.082361</td>\n",
       "      <td>-0.078803</td>\n",
       "      <td>0.085102</td>\n",
       "      <td>-0.255425</td>\n",
       "      <td>...</td>\n",
       "      <td>-0.069083</td>\n",
       "      <td>-0.225775</td>\n",
       "      <td>-0.638672</td>\n",
       "      <td>0.101288</td>\n",
       "      <td>-0.339846</td>\n",
       "      <td>0.167170</td>\n",
       "      <td>0.125895</td>\n",
       "      <td>-0.008983</td>\n",
       "      <td>0.014724</td>\n",
       "      <td>2.69</td>\n",
       "    </tr>\n",
       "    <tr>\n",
       "      <th>2</th>\n",
       "      <td>1</td>\n",
       "      <td>-1.358354</td>\n",
       "      <td>-1.340163</td>\n",
       "      <td>1.773209</td>\n",
       "      <td>0.379780</td>\n",
       "      <td>-0.503198</td>\n",
       "      <td>1.800499</td>\n",
       "      <td>0.791461</td>\n",
       "      <td>0.247676</td>\n",
       "      <td>-1.514654</td>\n",
       "      <td>...</td>\n",
       "      <td>0.524980</td>\n",
       "      <td>0.247998</td>\n",
       "      <td>0.771679</td>\n",
       "      <td>0.909412</td>\n",
       "      <td>-0.689281</td>\n",
       "      <td>-0.327642</td>\n",
       "      <td>-0.139097</td>\n",
       "      <td>-0.055353</td>\n",
       "      <td>-0.059752</td>\n",
       "      <td>378.66</td>\n",
       "    </tr>\n",
       "    <tr>\n",
       "      <th>3</th>\n",
       "      <td>1</td>\n",
       "      <td>-0.966272</td>\n",
       "      <td>-0.185226</td>\n",
       "      <td>1.792993</td>\n",
       "      <td>-0.863291</td>\n",
       "      <td>-0.010309</td>\n",
       "      <td>1.247203</td>\n",
       "      <td>0.237609</td>\n",
       "      <td>0.377436</td>\n",
       "      <td>-1.387024</td>\n",
       "      <td>...</td>\n",
       "      <td>-0.208038</td>\n",
       "      <td>-0.108300</td>\n",
       "      <td>0.005274</td>\n",
       "      <td>-0.190321</td>\n",
       "      <td>-1.175575</td>\n",
       "      <td>0.647376</td>\n",
       "      <td>-0.221929</td>\n",
       "      <td>0.062723</td>\n",
       "      <td>0.061458</td>\n",
       "      <td>123.50</td>\n",
       "    </tr>\n",
       "    <tr>\n",
       "      <th>4</th>\n",
       "      <td>2</td>\n",
       "      <td>-1.158233</td>\n",
       "      <td>0.877737</td>\n",
       "      <td>1.548718</td>\n",
       "      <td>0.403034</td>\n",
       "      <td>-0.407193</td>\n",
       "      <td>0.095921</td>\n",
       "      <td>0.592941</td>\n",
       "      <td>-0.270533</td>\n",
       "      <td>0.817739</td>\n",
       "      <td>...</td>\n",
       "      <td>0.408542</td>\n",
       "      <td>-0.009431</td>\n",
       "      <td>0.798278</td>\n",
       "      <td>-0.137458</td>\n",
       "      <td>0.141267</td>\n",
       "      <td>-0.206010</td>\n",
       "      <td>0.502292</td>\n",
       "      <td>0.219422</td>\n",
       "      <td>0.215153</td>\n",
       "      <td>69.99</td>\n",
       "    </tr>\n",
       "    <tr>\n",
       "      <th>...</th>\n",
       "      <td>...</td>\n",
       "      <td>...</td>\n",
       "      <td>...</td>\n",
       "      <td>...</td>\n",
       "      <td>...</td>\n",
       "      <td>...</td>\n",
       "      <td>...</td>\n",
       "      <td>...</td>\n",
       "      <td>...</td>\n",
       "      <td>...</td>\n",
       "      <td>...</td>\n",
       "      <td>...</td>\n",
       "      <td>...</td>\n",
       "      <td>...</td>\n",
       "      <td>...</td>\n",
       "      <td>...</td>\n",
       "      <td>...</td>\n",
       "      <td>...</td>\n",
       "      <td>...</td>\n",
       "      <td>...</td>\n",
       "      <td>...</td>\n",
       "    </tr>\n",
       "    <tr>\n",
       "      <th>19995</th>\n",
       "      <td>47051</td>\n",
       "      <td>1.254059</td>\n",
       "      <td>-0.786311</td>\n",
       "      <td>0.286283</td>\n",
       "      <td>-0.666334</td>\n",
       "      <td>-0.951138</td>\n",
       "      <td>-0.389992</td>\n",
       "      <td>-0.560189</td>\n",
       "      <td>-0.024899</td>\n",
       "      <td>-0.790512</td>\n",
       "      <td>...</td>\n",
       "      <td>0.192768</td>\n",
       "      <td>0.040335</td>\n",
       "      <td>-0.060404</td>\n",
       "      <td>-0.100546</td>\n",
       "      <td>0.024825</td>\n",
       "      <td>0.457905</td>\n",
       "      <td>-0.304989</td>\n",
       "      <td>-0.008119</td>\n",
       "      <td>0.012787</td>\n",
       "      <td>75.44</td>\n",
       "    </tr>\n",
       "    <tr>\n",
       "      <th>19996</th>\n",
       "      <td>47052</td>\n",
       "      <td>-1.883323</td>\n",
       "      <td>0.104475</td>\n",
       "      <td>1.931791</td>\n",
       "      <td>-3.691559</td>\n",
       "      <td>-0.196086</td>\n",
       "      <td>1.630184</td>\n",
       "      <td>-0.391184</td>\n",
       "      <td>1.133396</td>\n",
       "      <td>2.757721</td>\n",
       "      <td>...</td>\n",
       "      <td>-0.218017</td>\n",
       "      <td>-0.134996</td>\n",
       "      <td>0.395790</td>\n",
       "      <td>-0.229124</td>\n",
       "      <td>-1.004798</td>\n",
       "      <td>0.596717</td>\n",
       "      <td>-0.950903</td>\n",
       "      <td>0.115782</td>\n",
       "      <td>-0.134574</td>\n",
       "      <td>7.74</td>\n",
       "    </tr>\n",
       "    <tr>\n",
       "      <th>19997</th>\n",
       "      <td>47052</td>\n",
       "      <td>1.184662</td>\n",
       "      <td>-0.216035</td>\n",
       "      <td>0.651774</td>\n",
       "      <td>-0.168070</td>\n",
       "      <td>-0.769154</td>\n",
       "      <td>-0.379905</td>\n",
       "      <td>-0.482859</td>\n",
       "      <td>0.188342</td>\n",
       "      <td>0.333287</td>\n",
       "      <td>...</td>\n",
       "      <td>-0.186540</td>\n",
       "      <td>-0.058520</td>\n",
       "      <td>-0.224482</td>\n",
       "      <td>0.157778</td>\n",
       "      <td>0.247821</td>\n",
       "      <td>-0.060009</td>\n",
       "      <td>0.908928</td>\n",
       "      <td>-0.066832</td>\n",
       "      <td>-0.005374</td>\n",
       "      <td>0.77</td>\n",
       "    </tr>\n",
       "    <tr>\n",
       "      <th>19998</th>\n",
       "      <td>47053</td>\n",
       "      <td>0.829086</td>\n",
       "      <td>-0.420209</td>\n",
       "      <td>-0.323887</td>\n",
       "      <td>1.118331</td>\n",
       "      <td>-0.078426</td>\n",
       "      <td>-0.392259</td>\n",
       "      <td>0.545886</td>\n",
       "      <td>-0.259599</td>\n",
       "      <td>-0.032113</td>\n",
       "      <td>...</td>\n",
       "      <td>0.401778</td>\n",
       "      <td>0.124450</td>\n",
       "      <td>-0.134035</td>\n",
       "      <td>-0.422629</td>\n",
       "      <td>-0.422666</td>\n",
       "      <td>0.719097</td>\n",
       "      <td>-0.303521</td>\n",
       "      <td>-0.031901</td>\n",
       "      <td>0.055239</td>\n",
       "      <td>250.00</td>\n",
       "    </tr>\n",
       "    <tr>\n",
       "      <th>19999</th>\n",
       "      <td>47054</td>\n",
       "      <td>-0.437949</td>\n",
       "      <td>0.851474</td>\n",
       "      <td>1.291254</td>\n",
       "      <td>1.115927</td>\n",
       "      <td>0.238548</td>\n",
       "      <td>0.530677</td>\n",
       "      <td>0.383649</td>\n",
       "      <td>0.379522</td>\n",
       "      <td>-0.255904</td>\n",
       "      <td>...</td>\n",
       "      <td>0.042213</td>\n",
       "      <td>-0.024795</td>\n",
       "      <td>0.171924</td>\n",
       "      <td>-0.179547</td>\n",
       "      <td>-0.333910</td>\n",
       "      <td>-0.137862</td>\n",
       "      <td>-0.214643</td>\n",
       "      <td>0.412898</td>\n",
       "      <td>0.187111</td>\n",
       "      <td>10.28</td>\n",
       "    </tr>\n",
       "  </tbody>\n",
       "</table>\n",
       "<p>20000 rows × 30 columns</p>\n",
       "</div>"
      ],
      "text/plain": [
       "        Time        V1        V2        V3        V4        V5        V6  \\\n",
       "0          0 -1.359807 -0.072781  2.536347  1.378155 -0.338321  0.462388   \n",
       "1          0  1.191857  0.266151  0.166480  0.448154  0.060018 -0.082361   \n",
       "2          1 -1.358354 -1.340163  1.773209  0.379780 -0.503198  1.800499   \n",
       "3          1 -0.966272 -0.185226  1.792993 -0.863291 -0.010309  1.247203   \n",
       "4          2 -1.158233  0.877737  1.548718  0.403034 -0.407193  0.095921   \n",
       "...      ...       ...       ...       ...       ...       ...       ...   \n",
       "19995  47051  1.254059 -0.786311  0.286283 -0.666334 -0.951138 -0.389992   \n",
       "19996  47052 -1.883323  0.104475  1.931791 -3.691559 -0.196086  1.630184   \n",
       "19997  47052  1.184662 -0.216035  0.651774 -0.168070 -0.769154 -0.379905   \n",
       "19998  47053  0.829086 -0.420209 -0.323887  1.118331 -0.078426 -0.392259   \n",
       "19999  47054 -0.437949  0.851474  1.291254  1.115927  0.238548  0.530677   \n",
       "\n",
       "             V7        V8        V9  ...       V20       V21       V22  \\\n",
       "0      0.239599  0.098698  0.363787  ...  0.251412 -0.018307  0.277838   \n",
       "1     -0.078803  0.085102 -0.255425  ... -0.069083 -0.225775 -0.638672   \n",
       "2      0.791461  0.247676 -1.514654  ...  0.524980  0.247998  0.771679   \n",
       "3      0.237609  0.377436 -1.387024  ... -0.208038 -0.108300  0.005274   \n",
       "4      0.592941 -0.270533  0.817739  ...  0.408542 -0.009431  0.798278   \n",
       "...         ...       ...       ...  ...       ...       ...       ...   \n",
       "19995 -0.560189 -0.024899 -0.790512  ...  0.192768  0.040335 -0.060404   \n",
       "19996 -0.391184  1.133396  2.757721  ... -0.218017 -0.134996  0.395790   \n",
       "19997 -0.482859  0.188342  0.333287  ... -0.186540 -0.058520 -0.224482   \n",
       "19998  0.545886 -0.259599 -0.032113  ...  0.401778  0.124450 -0.134035   \n",
       "19999  0.383649  0.379522 -0.255904  ...  0.042213 -0.024795  0.171924   \n",
       "\n",
       "            V23       V24       V25       V26       V27       V28  Amount  \n",
       "0     -0.110474  0.066928  0.128539 -0.189115  0.133558 -0.021053  149.62  \n",
       "1      0.101288 -0.339846  0.167170  0.125895 -0.008983  0.014724    2.69  \n",
       "2      0.909412 -0.689281 -0.327642 -0.139097 -0.055353 -0.059752  378.66  \n",
       "3     -0.190321 -1.175575  0.647376 -0.221929  0.062723  0.061458  123.50  \n",
       "4     -0.137458  0.141267 -0.206010  0.502292  0.219422  0.215153   69.99  \n",
       "...         ...       ...       ...       ...       ...       ...     ...  \n",
       "19995 -0.100546  0.024825  0.457905 -0.304989 -0.008119  0.012787   75.44  \n",
       "19996 -0.229124 -1.004798  0.596717 -0.950903  0.115782 -0.134574    7.74  \n",
       "19997  0.157778  0.247821 -0.060009  0.908928 -0.066832 -0.005374    0.77  \n",
       "19998 -0.422629 -0.422666  0.719097 -0.303521 -0.031901  0.055239  250.00  \n",
       "19999 -0.179547 -0.333910 -0.137862 -0.214643  0.412898  0.187111   10.28  \n",
       "\n",
       "[20000 rows x 30 columns]"
      ]
     },
     "execution_count": 24,
     "metadata": {},
     "output_type": "execute_result"
    }
   ],
   "source": [
    "X=data.iloc[:,0:30]\n",
    "X"
   ]
  },
  {
   "cell_type": "code",
   "execution_count": 28,
   "id": "668c6d17",
   "metadata": {},
   "outputs": [
    {
     "data": {
      "text/plain": [
       "0        0\n",
       "1        0\n",
       "2        0\n",
       "3        0\n",
       "4        0\n",
       "        ..\n",
       "19995    0\n",
       "19996    0\n",
       "19997    0\n",
       "19998    0\n",
       "19999    0\n",
       "Name: Class, Length: 20000, dtype: int64"
      ]
     },
     "execution_count": 28,
     "metadata": {},
     "output_type": "execute_result"
    }
   ],
   "source": [
    "y=data['Class']\n",
    "y"
   ]
  },
  {
   "cell_type": "code",
   "execution_count": 29,
   "id": "7bde2e48",
   "metadata": {},
   "outputs": [
    {
     "name": "stdout",
     "output_type": "stream",
     "text": [
      "(14000, 30) (6000, 30) (14000,) (6000,)\n"
     ]
    }
   ],
   "source": [
    "from sklearn.model_selection import train_test_split\n",
    "X_train, X_test, y_train, y_test = train_test_split(X,y,test_size=0.3,random_state=2)\n",
    "print(X_train.shape,X_test.shape, y_train.shape, y_test.shape)"
   ]
  },
  {
   "cell_type": "code",
   "execution_count": 30,
   "id": "95f0da71",
   "metadata": {},
   "outputs": [],
   "source": [
    "from sklearn.tree import DecisionTreeClassifier\n",
    "from sklearn.metrics import accuracy_score\n",
    "from sklearn.metrics import confusion_matrix\n"
   ]
  },
  {
   "cell_type": "code",
   "execution_count": 65,
   "id": "c61c6d98",
   "metadata": {},
   "outputs": [
    {
     "name": "stdout",
     "output_type": "stream",
     "text": [
      "[0 0 0 ... 0 0 0]\n",
      "0.9945\n"
     ]
    }
   ],
   "source": [
    "Dec_tree_clsf = DecisionTreeClassifier(criterion='gini')\n",
    "Dec_tree_clsf=Dec_tree_clsf.fit(X_train,y_train)\n",
    "pred=Dec_tree_clsf.predict(X_test)\n",
    "print(pred)\n",
    "print(accuracy_score(y_test,pred))"
   ]
  },
  {
   "cell_type": "code",
   "execution_count": 72,
   "id": "a407b52b",
   "metadata": {},
   "outputs": [
    {
     "name": "stdout",
     "output_type": "stream",
     "text": [
      "[0 0 0 ... 0 0 0]\n",
      "0.9945\n"
     ]
    }
   ],
   "source": [
    "Dec_tree_clsf = DecisionTreeClassifier(splitter='best')\n",
    "Dec_tree_clsf=Dec_tree_clsf.fit(X_train,y_train)\n",
    "pred=Dec_tree_clsf.predict(X_test)\n",
    "print(pred)\n",
    "print(accuracy_score(y_test,pred))"
   ]
  },
  {
   "cell_type": "code",
   "execution_count": 79,
   "id": "cf0a8016",
   "metadata": {},
   "outputs": [
    {
     "name": "stdout",
     "output_type": "stream",
     "text": [
      "[0 0 0 ... 0 0 0]\n",
      "0.9951666666666666\n"
     ]
    }
   ],
   "source": [
    "Dec_tree_clsf = DecisionTreeClassifier(min_samples_split=25)\n",
    "Dec_tree_clsf=Dec_tree_clsf.fit(X_train,y_train)\n",
    "pred=Dec_tree_clsf.predict(X_test)\n",
    "print(pred)\n",
    "print(accuracy_score(y_test,pred))"
   ]
  },
  {
   "cell_type": "code",
   "execution_count": 85,
   "id": "5293e1ed",
   "metadata": {},
   "outputs": [
    {
     "name": "stdout",
     "output_type": "stream",
     "text": [
      "[0 0 0 ... 0 0 0]\n",
      "0.9968333333333333\n"
     ]
    }
   ],
   "source": [
    "Dec_tree_clsf = DecisionTreeClassifier(min_samples_leaf=2)\n",
    "Dec_tree_clsf=Dec_tree_clsf.fit(X_train,y_train)\n",
    "pred=Dec_tree_clsf.predict(X_test)\n",
    "print(pred)\n",
    "print(accuracy_score(y_test,pred))"
   ]
  },
  {
   "cell_type": "code",
   "execution_count": 45,
   "id": "e55ed1b9",
   "metadata": {},
   "outputs": [
    {
     "name": "stdout",
     "output_type": "stream",
     "text": [
      "[0 0 0 ... 0 0 0]\n",
      "0.9968333333333333\n"
     ]
    }
   ],
   "source": [
    "Dec_tree_clsf = DecisionTreeClassifier(max_depth=5)\n",
    "Dec_tree_clsf=Dec_tree_clsf.fit(X_train,y_train)\n",
    "pred=Dec_tree_clsf.predict(X_test)\n",
    "print(pred)\n",
    "print(accuracy_score(y_test,pred))"
   ]
  },
  {
   "cell_type": "code",
   "execution_count": 53,
   "id": "305eb6a2",
   "metadata": {},
   "outputs": [
    {
     "name": "stdout",
     "output_type": "stream",
     "text": [
      "[0 0 0 ... 0 0 0]\n",
      "0.9931666666666666\n"
     ]
    }
   ],
   "source": [
    "Dec_tree_clsf = DecisionTreeClassifier(max_features=20)\n",
    "Dec_tree_clsf=Dec_tree_clsf.fit(X_train,y_train)\n",
    "pred=Dec_tree_clsf.predict(X_test)\n",
    "print(pred)\n",
    "print(accuracy_score(y_test,pred))"
   ]
  },
  {
   "cell_type": "code",
   "execution_count": 60,
   "id": "a33393e3",
   "metadata": {},
   "outputs": [
    {
     "name": "stdout",
     "output_type": "stream",
     "text": [
      "[0 0 0 ... 0 0 0]\n",
      "0.997\n"
     ]
    }
   ],
   "source": [
    "Dec_tree_clsf = DecisionTreeClassifier(max_leaf_nodes=10)\n",
    "Dec_tree_clsf=Dec_tree_clsf.fit(X_train,y_train)\n",
    "pred=Dec_tree_clsf.predict(X_test)\n",
    "print(pred)\n",
    "print(accuracy_score(y_test,pred))"
   ]
  },
  {
   "cell_type": "code",
   "execution_count": 126,
   "id": "927461de",
   "metadata": {},
   "outputs": [
    {
     "name": "stdout",
     "output_type": "stream",
     "text": [
      "[0 0 0 ... 0 0 0]\n",
      "0.9965\n"
     ]
    }
   ],
   "source": [
    "Dec_tree_clsf = DecisionTreeClassifier(min_impurity_decrease=10)\n",
    "Dec_tree_clsf=Dec_tree_clsf.fit(X_train,y_train)\n",
    "pred=Dec_tree_clsf.predict(X_test)\n",
    "print(pred)\n",
    "print(accuracy_score(y_test,pred))"
   ]
  },
  {
   "cell_type": "code",
   "execution_count": 127,
   "id": "0e3487bf",
   "metadata": {},
   "outputs": [
    {
     "data": {
      "text/plain": [
       "[Text(0.5, 0.5, 'gini = 0.006\\nsamples = 14000\\nvalue = [13957, 43]')]"
      ]
     },
     "execution_count": 127,
     "metadata": {},
     "output_type": "execute_result"
    },
    {
     "data": {
      "image/png": "[encoded data removed]",
      "text/plain": [
       "<Figure size 432x288 with 1 Axes>"
      ]
     },
     "metadata": {
      "needs_background": "light"
     },
     "output_type": "display_data"
    }
   ],
   "source": [
    "from sklearn import tree\n",
    "tree.plot_tree(Dec_tree_clsf)"
   ]
  },
  {
   "cell_type": "code",
   "execution_count": 123,
   "id": "442b72fe",
   "metadata": {},
   "outputs": [
    {
     "name": "stdout",
     "output_type": "stream",
     "text": [
      "[0 0 0 ... 0 0 0]\n",
      "0.9941666666666666\n"
     ]
    }
   ],
   "source": [
    "Dec_tree_clsf = DecisionTreeClassifier(random_state=20)\n",
    "Dec_tree_clsf=Dec_tree_clsf.fit(X_train,y_train)\n",
    "pred=Dec_tree_clsf.predict(X_test)\n",
    "print(pred)\n",
    "print(accuracy_score(y_test,pred))"
   ]
  },
  {
   "cell_type": "code",
   "execution_count": 124,
   "id": "9fc081d5",
   "metadata": {},
   "outputs": [
    {
     "data": {
      "text/plain": [
       "[Text(0.3452197560362173, 0.9705882352941176, 'X[12] <= -4.615\\ngini = 0.006\\nsamples = 14000\\nvalue = [13957, 43]'),\n",
       " Text(0.32912317655935613, 0.9117647058823529, 'gini = 0.0\\nsamples = 11\\nvalue = [0, 11]'),\n",
       " Text(0.36131633551307846, 0.9117647058823529, 'X[17] <= -5.023\\ngini = 0.005\\nsamples = 13989\\nvalue = [13957, 32]'),\n",
       " Text(0.2913732394366197, 0.8529411764705882, 'X[12] <= -2.967\\ngini = 0.5\\nsamples = 2\\nvalue = [1, 1]'),\n",
       " Text(0.27527665995975853, 0.7941176470588235, 'gini = 0.0\\nsamples = 1\\nvalue = [0, 1]'),\n",
       " Text(0.3074698189134809, 0.7941176470588235, 'gini = 0.0\\nsamples = 1\\nvalue = [1, 0]'),\n",
       " Text(0.4312594315895372, 0.8529411764705882, 'X[4] <= -4.475\\ngini = 0.004\\nsamples = 13987\\nvalue = [13956, 31]'),\n",
       " Text(0.33966297786720323, 0.7941176470588235, 'X[7] <= 0.777\\ngini = 0.32\\nsamples = 5\\nvalue = [4, 1]'),\n",
       " Text(0.32356639839034207, 0.7352941176470589, 'gini = 0.0\\nsamples = 4\\nvalue = [4, 0]'),\n",
       " Text(0.3557595573440644, 0.7352941176470589, 'gini = 0.0\\nsamples = 1\\nvalue = [0, 1]'),\n",
       " Text(0.5228558853118712, 0.7941176470588235, 'X[14] <= -4.653\\ngini = 0.004\\nsamples = 13982\\nvalue = [13952, 30]'),\n",
       " Text(0.3879527162977867, 0.7352941176470589, 'X[10] <= 0.935\\ngini = 0.245\\nsamples = 7\\nvalue = [6, 1]'),\n",
       " Text(0.37185613682092555, 0.6764705882352942, 'gini = 0.0\\nsamples = 1\\nvalue = [0, 1]'),\n",
       " Text(0.4040492957746479, 0.6764705882352942, 'gini = 0.0\\nsamples = 6\\nvalue = [6, 0]'),\n",
       " Text(0.6577590543259557, 0.7352941176470589, 'X[6] <= 4.45\\ngini = 0.004\\nsamples = 13975\\nvalue = [13946, 29]'),\n",
       " Text(0.4362424547283702, 0.6764705882352942, 'X[14] <= -0.579\\ngini = 0.004\\nsamples = 13903\\nvalue = [13877, 26]'),\n",
       " Text(0.2977867203219316, 0.6176470588235294, 'X[14] <= -0.579\\ngini = 0.011\\nsamples = 2215\\nvalue = [2203, 12]'),\n",
       " Text(0.28169014084507044, 0.5588235294117647, 'X[24] <= 1.034\\ngini = 0.01\\nsamples = 2214\\nvalue = [2203, 11]'),\n",
       " Text(0.20925553319919518, 0.5, 'X[0] <= 46730.0\\ngini = 0.008\\nsamples = 2183\\nvalue = [2174, 9]'),\n",
       " Text(0.1448692152917505, 0.4411764705882353, 'X[19] <= 1.049\\ngini = 0.007\\nsamples = 2126\\nvalue = [2119, 7]'),\n",
       " Text(0.06438631790744467, 0.38235294117647056, 'X[27] <= -2.133\\ngini = 0.003\\nsamples = 1862\\nvalue = [1859, 3]'),\n",
       " Text(0.03219315895372234, 0.3235294117647059, 'X[27] <= -2.164\\ngini = 0.067\\nsamples = 29\\nvalue = [28, 1]'),\n",
       " Text(0.01609657947686117, 0.2647058823529412, 'gini = 0.0\\nsamples = 28\\nvalue = [28, 0]'),\n",
       " Text(0.0482897384305835, 0.2647058823529412, 'gini = 0.0\\nsamples = 1\\nvalue = [0, 1]'),\n",
       " Text(0.096579476861167, 0.3235294117647059, 'X[23] <= 0.16\\ngini = 0.002\\nsamples = 1833\\nvalue = [1831, 2]'),\n",
       " Text(0.08048289738430583, 0.2647058823529412, 'gini = 0.0\\nsamples = 1585\\nvalue = [1585, 0]'),\n",
       " Text(0.11267605633802817, 0.2647058823529412, 'X[23] <= 0.161\\ngini = 0.016\\nsamples = 248\\nvalue = [246, 2]'),\n",
       " Text(0.096579476861167, 0.20588235294117646, 'gini = 0.0\\nsamples = 1\\nvalue = [0, 1]'),\n",
       " Text(0.12877263581488935, 0.20588235294117646, 'X[0] <= 537.5\\ngini = 0.008\\nsamples = 247\\nvalue = [246, 1]'),\n",
       " Text(0.11267605633802817, 0.14705882352941177, 'X[0] <= 508.5\\ngini = 0.165\\nsamples = 11\\nvalue = [10, 1]'),\n",
       " Text(0.096579476861167, 0.08823529411764706, 'gini = 0.0\\nsamples = 10\\nvalue = [10, 0]'),\n",
       " Text(0.12877263581488935, 0.08823529411764706, 'gini = 0.0\\nsamples = 1\\nvalue = [0, 1]'),\n",
       " Text(0.1448692152917505, 0.14705882352941177, 'gini = 0.0\\nsamples = 236\\nvalue = [236, 0]'),\n",
       " Text(0.22535211267605634, 0.38235294117647056, 'X[19] <= 1.053\\ngini = 0.03\\nsamples = 264\\nvalue = [260, 4]'),\n",
       " Text(0.20925553319919518, 0.3235294117647059, 'gini = 0.0\\nsamples = 1\\nvalue = [0, 1]'),\n",
       " Text(0.2414486921529175, 0.3235294117647059, 'X[17] <= 2.119\\ngini = 0.023\\nsamples = 263\\nvalue = [260, 3]'),\n",
       " Text(0.22535211267605634, 0.2647058823529412, 'X[15] <= 1.958\\ngini = 0.015\\nsamples = 262\\nvalue = [260, 2]'),\n",
       " Text(0.193158953722334, 0.20588235294117646, 'X[15] <= -2.116\\ngini = 0.008\\nsamples = 254\\nvalue = [253, 1]'),\n",
       " Text(0.17706237424547283, 0.14705882352941177, 'X[23] <= 0.057\\ngini = 0.142\\nsamples = 13\\nvalue = [12, 1]'),\n",
       " Text(0.16096579476861167, 0.08823529411764706, 'gini = 0.0\\nsamples = 12\\nvalue = [12, 0]'),\n",
       " Text(0.193158953722334, 0.08823529411764706, 'gini = 0.0\\nsamples = 1\\nvalue = [0, 1]'),\n",
       " Text(0.20925553319919518, 0.14705882352941177, 'gini = 0.0\\nsamples = 241\\nvalue = [241, 0]'),\n",
       " Text(0.2575452716297787, 0.20588235294117646, 'X[14] <= -1.389\\ngini = 0.219\\nsamples = 8\\nvalue = [7, 1]'),\n",
       " Text(0.2414486921529175, 0.14705882352941177, 'gini = 0.0\\nsamples = 1\\nvalue = [0, 1]'),\n",
       " Text(0.27364185110663986, 0.14705882352941177, 'gini = 0.0\\nsamples = 7\\nvalue = [7, 0]'),\n",
       " Text(0.2575452716297787, 0.2647058823529412, 'gini = 0.0\\nsamples = 1\\nvalue = [0, 1]'),\n",
       " Text(0.27364185110663986, 0.4411764705882353, 'X[0] <= 46736.0\\ngini = 0.068\\nsamples = 57\\nvalue = [55, 2]'),\n",
       " Text(0.2575452716297787, 0.38235294117647056, 'gini = 0.0\\nsamples = 1\\nvalue = [0, 1]'),\n",
       " Text(0.289738430583501, 0.38235294117647056, 'X[18] <= 0.928\\ngini = 0.035\\nsamples = 56\\nvalue = [55, 1]'),\n",
       " Text(0.27364185110663986, 0.3235294117647059, 'gini = 0.0\\nsamples = 48\\nvalue = [48, 0]'),\n",
       " Text(0.3058350100603622, 0.3235294117647059, 'X[21] <= 0.049\\ngini = 0.219\\nsamples = 8\\nvalue = [7, 1]'),\n",
       " Text(0.289738430583501, 0.2647058823529412, 'gini = 0.0\\nsamples = 7\\nvalue = [7, 0]'),\n",
       " Text(0.32193158953722334, 0.2647058823529412, 'gini = 0.0\\nsamples = 1\\nvalue = [0, 1]'),\n",
       " Text(0.35412474849094566, 0.5, 'X[24] <= 1.037\\ngini = 0.121\\nsamples = 31\\nvalue = [29, 2]'),\n",
       " Text(0.3380281690140845, 0.4411764705882353, 'gini = 0.0\\nsamples = 1\\nvalue = [0, 1]'),\n",
       " Text(0.3702213279678068, 0.4411764705882353, 'X[29] <= 8.685\\ngini = 0.064\\nsamples = 30\\nvalue = [29, 1]'),\n",
       " Text(0.35412474849094566, 0.38235294117647056, 'X[17] <= -0.425\\ngini = 0.5\\nsamples = 2\\nvalue = [1, 1]'),\n",
       " Text(0.3380281690140845, 0.3235294117647059, 'gini = 0.0\\nsamples = 1\\nvalue = [1, 0]'),\n",
       " Text(0.3702213279678068, 0.3235294117647059, 'gini = 0.0\\nsamples = 1\\nvalue = [0, 1]'),\n",
       " Text(0.386317907444668, 0.38235294117647056, 'gini = 0.0\\nsamples = 28\\nvalue = [28, 0]'),\n",
       " Text(0.31388329979879276, 0.5588235294117647, 'gini = 0.0\\nsamples = 1\\nvalue = [0, 1]'),\n",
       " Text(0.5746981891348089, 0.6176470588235294, 'X[29] <= 0.225\\ngini = 0.002\\nsamples = 11688\\nvalue = [11674, 14]'),\n",
       " Text(0.482897384305835, 0.5588235294117647, 'X[29] <= 0.205\\ngini = 0.034\\nsamples = 117\\nvalue = [115, 2]'),\n",
       " Text(0.4507042253521127, 0.5, 'X[22] <= -0.783\\ngini = 0.017\\nsamples = 114\\nvalue = [113, 1]'),\n",
       " Text(0.4346076458752515, 0.4411764705882353, 'X[9] <= 0.243\\ngini = 0.278\\nsamples = 6\\nvalue = [5, 1]'),\n",
       " Text(0.41851106639839036, 0.38235294117647056, 'gini = 0.0\\nsamples = 5\\nvalue = [5, 0]'),\n",
       " Text(0.4507042253521127, 0.38235294117647056, 'gini = 0.0\\nsamples = 1\\nvalue = [0, 1]'),\n",
       " Text(0.46680080482897385, 0.4411764705882353, 'gini = 0.0\\nsamples = 108\\nvalue = [108, 0]'),\n",
       " Text(0.5150905432595574, 0.5, 'X[24] <= 0.529\\ngini = 0.444\\nsamples = 3\\nvalue = [2, 1]'),\n",
       " Text(0.49899396378269617, 0.4411764705882353, 'gini = 0.0\\nsamples = 1\\nvalue = [0, 1]'),\n",
       " Text(0.5311871227364185, 0.4411764705882353, 'gini = 0.0\\nsamples = 2\\nvalue = [2, 0]'),\n",
       " Text(0.6664989939637826, 0.5588235294117647, 'X[27] <= -1.232\\ngini = 0.002\\nsamples = 11571\\nvalue = [11559, 12]'),\n",
       " Text(0.579476861167002, 0.5, 'X[27] <= -1.273\\ngini = 0.049\\nsamples = 40\\nvalue = [39, 1]'),\n",
       " Text(0.5633802816901409, 0.4411764705882353, 'gini = 0.0\\nsamples = 39\\nvalue = [39, 0]'),\n",
       " Text(0.5955734406438632, 0.4411764705882353, 'gini = 0.0\\nsamples = 1\\nvalue = [0, 1]'),\n",
       " Text(0.7535211267605634, 0.5, 'X[29] <= 370.38\\ngini = 0.002\\nsamples = 11531\\nvalue = [11520, 11]'),\n",
       " Text(0.6277665995975855, 0.4411764705882353, 'X[15] <= -2.244\\ngini = 0.001\\nsamples = 10887\\nvalue = [10880, 7]'),\n",
       " Text(0.5573440643863179, 0.38235294117647056, 'X[15] <= -2.251\\ngini = 0.031\\nsamples = 63\\nvalue = [62, 1]'),\n",
       " Text(0.5412474849094567, 0.3235294117647059, 'gini = 0.0\\nsamples = 62\\nvalue = [62, 0]'),\n",
       " Text(0.5734406438631791, 0.3235294117647059, 'gini = 0.0\\nsamples = 1\\nvalue = [0, 1]'),\n",
       " Text(0.6981891348088531, 0.38235294117647056, 'X[11] <= 1.6\\ngini = 0.001\\nsamples = 10824\\nvalue = [10818, 6]'),\n",
       " Text(0.6056338028169014, 0.3235294117647059, 'X[3] <= -1.107\\ngini = 0.001\\nsamples = 9963\\nvalue = [9960, 3]'),\n",
       " Text(0.5653923541247485, 0.2647058823529412, 'X[3] <= -1.108\\ngini = 0.008\\nsamples = 246\\nvalue = [245, 1]'),\n",
       " Text(0.5492957746478874, 0.20588235294117646, 'gini = 0.0\\nsamples = 245\\nvalue = [245, 0]'),\n",
       " Text(0.5814889336016097, 0.20588235294117646, 'gini = 0.0\\nsamples = 1\\nvalue = [0, 1]'),\n",
       " Text(0.6458752515090543, 0.2647058823529412, 'X[0] <= 426.5\\ngini = 0.0\\nsamples = 9717\\nvalue = [9715, 2]'),\n",
       " Text(0.613682092555332, 0.20588235294117646, 'X[0] <= 425.5\\ngini = 0.008\\nsamples = 255\\nvalue = [254, 1]'),\n",
       " Text(0.5975855130784709, 0.14705882352941177, 'gini = 0.0\\nsamples = 254\\nvalue = [254, 0]'),\n",
       " Text(0.6297786720321932, 0.14705882352941177, 'gini = 0.0\\nsamples = 1\\nvalue = [0, 1]'),\n",
       " Text(0.6780684104627767, 0.20588235294117646, 'X[3] <= 2.139\\ngini = 0.0\\nsamples = 9462\\nvalue = [9461, 1]'),\n",
       " Text(0.6619718309859155, 0.14705882352941177, 'gini = 0.0\\nsamples = 8978\\nvalue = [8978, 0]'),\n",
       " Text(0.6941649899396378, 0.14705882352941177, 'X[3] <= 2.141\\ngini = 0.004\\nsamples = 484\\nvalue = [483, 1]'),\n",
       " Text(0.6780684104627767, 0.08823529411764706, 'gini = 0.0\\nsamples = 1\\nvalue = [0, 1]'),\n",
       " Text(0.710261569416499, 0.08823529411764706, 'gini = 0.0\\nsamples = 483\\nvalue = [483, 0]'),\n",
       " Text(0.7907444668008048, 0.3235294117647059, 'X[11] <= 1.601\\ngini = 0.007\\nsamples = 861\\nvalue = [858, 3]'),\n",
       " Text(0.7746478873239436, 0.2647058823529412, 'gini = 0.0\\nsamples = 1\\nvalue = [0, 1]'),\n",
       " Text(0.806841046277666, 0.2647058823529412, 'X[24] <= 0.592\\ngini = 0.005\\nsamples = 860\\nvalue = [858, 2]'),\n",
       " Text(0.7746478873239436, 0.20588235294117646, 'X[26] <= -0.838\\ngini = 0.002\\nsamples = 846\\nvalue = [845, 1]'),\n",
       " Text(0.7585513078470825, 0.14705882352941177, 'X[26] <= -0.839\\ngini = 0.054\\nsamples = 36\\nvalue = [35, 1]'),\n",
       " Text(0.7424547283702213, 0.08823529411764706, 'gini = 0.0\\nsamples = 33\\nvalue = [33, 0]'),\n",
       " Text(0.7746478873239436, 0.08823529411764706, 'X[0] <= 2803.5\\ngini = 0.444\\nsamples = 3\\nvalue = [2, 1]'),\n",
       " Text(0.7585513078470825, 0.029411764705882353, 'gini = 0.0\\nsamples = 1\\nvalue = [0, 1]'),\n",
       " Text(0.7907444668008048, 0.029411764705882353, 'gini = 0.0\\nsamples = 2\\nvalue = [2, 0]'),\n",
       " Text(0.7907444668008048, 0.14705882352941177, 'gini = 0.0\\nsamples = 810\\nvalue = [810, 0]'),\n",
       " Text(0.8390342052313883, 0.20588235294117646, 'X[24] <= 0.593\\ngini = 0.133\\nsamples = 14\\nvalue = [13, 1]'),\n",
       " Text(0.8229376257545271, 0.14705882352941177, 'gini = 0.0\\nsamples = 1\\nvalue = [0, 1]'),\n",
       " Text(0.8551307847082495, 0.14705882352941177, 'gini = 0.0\\nsamples = 13\\nvalue = [13, 0]'),\n",
       " Text(0.8792756539235412, 0.4411764705882353, 'X[29] <= 371.38\\ngini = 0.012\\nsamples = 644\\nvalue = [640, 4]'),\n",
       " Text(0.8631790744466801, 0.38235294117647056, 'gini = 0.0\\nsamples = 1\\nvalue = [0, 1]'),\n",
       " Text(0.8953722334004024, 0.38235294117647056, 'X[0] <= 261.5\\ngini = 0.009\\nsamples = 643\\nvalue = [640, 3]'),\n",
       " Text(0.8551307847082495, 0.3235294117647059, 'X[22] <= -1.04\\ngini = 0.245\\nsamples = 7\\nvalue = [6, 1]'),\n",
       " Text(0.8390342052313883, 0.2647058823529412, 'gini = 0.0\\nsamples = 1\\nvalue = [0, 1]'),\n",
       " Text(0.8712273641851107, 0.2647058823529412, 'gini = 0.0\\nsamples = 6\\nvalue = [6, 0]'),\n",
       " Text(0.9356136820925554, 0.3235294117647059, 'X[18] <= -1.726\\ngini = 0.006\\nsamples = 636\\nvalue = [634, 2]'),\n",
       " Text(0.903420523138833, 0.2647058823529412, 'X[18] <= -1.739\\ngini = 0.117\\nsamples = 16\\nvalue = [15, 1]'),\n",
       " Text(0.8873239436619719, 0.20588235294117646, 'gini = 0.0\\nsamples = 15\\nvalue = [15, 0]'),\n",
       " Text(0.9195171026156942, 0.20588235294117646, 'gini = 0.0\\nsamples = 1\\nvalue = [0, 1]'),\n",
       " Text(0.9678068410462777, 0.2647058823529412, 'X[16] <= -1.728\\ngini = 0.003\\nsamples = 620\\nvalue = [619, 1]'),\n",
       " Text(0.9517102615694165, 0.20588235294117646, 'X[16] <= -1.758\\ngini = 0.053\\nsamples = 37\\nvalue = [36, 1]'),\n",
       " Text(0.9356136820925554, 0.14705882352941177, 'gini = 0.0\\nsamples = 36\\nvalue = [36, 0]'),\n",
       " Text(0.9678068410462777, 0.14705882352941177, 'gini = 0.0\\nsamples = 1\\nvalue = [0, 1]'),\n",
       " Text(0.9839034205231388, 0.20588235294117646, 'gini = 0.0\\nsamples = 583\\nvalue = [583, 0]'),\n",
       " Text(0.8792756539235412, 0.6764705882352942, 'X[4] <= -2.902\\ngini = 0.08\\nsamples = 72\\nvalue = [69, 3]'),\n",
       " Text(0.8631790744466801, 0.6176470588235294, 'gini = 0.0\\nsamples = 1\\nvalue = [0, 1]'),\n",
       " Text(0.8953722334004024, 0.6176470588235294, 'X[6] <= 4.456\\ngini = 0.055\\nsamples = 71\\nvalue = [69, 2]'),\n",
       " Text(0.8792756539235412, 0.5588235294117647, 'gini = 0.0\\nsamples = 1\\nvalue = [0, 1]'),\n",
       " Text(0.9114688128772636, 0.5588235294117647, 'X[15] <= 1.485\\ngini = 0.028\\nsamples = 70\\nvalue = [69, 1]'),\n",
       " Text(0.8953722334004024, 0.5, 'gini = 0.0\\nsamples = 65\\nvalue = [65, 0]'),\n",
       " Text(0.9275653923541247, 0.5, 'X[15] <= 1.569\\ngini = 0.32\\nsamples = 5\\nvalue = [4, 1]'),\n",
       " Text(0.9114688128772636, 0.4411764705882353, 'gini = 0.0\\nsamples = 1\\nvalue = [0, 1]'),\n",
       " Text(0.9436619718309859, 0.4411764705882353, 'gini = 0.0\\nsamples = 4\\nvalue = [4, 0]')]"
      ]
     },
     "execution_count": 124,
     "metadata": {},
     "output_type": "execute_result"
    },
    {
     "data": {
      "image/png": "[encoded data removed]",
      "text/plain": [
       "<Figure size 432x288 with 1 Axes>"
      ]
     },
     "metadata": {
      "needs_background": "light"
     },
     "output_type": "display_data"
    }
   ],
   "source": [
    "from sklearn import tree\n",
    "tree.plot_tree(Dec_tree_clsf)"
   ]
  },
  {
   "cell_type": "code",
   "execution_count": 121,
   "id": "c814b017",
   "metadata": {},
   "outputs": [
    {
     "name": "stdout",
     "output_type": "stream",
     "text": [
      "[0 0 0 ... 0 0 0]\n",
      "0.9965\n"
     ]
    }
   ],
   "source": [
    "Dec_tree_clsf = DecisionTreeClassifier(criterion='gini', splitter='best', min_samples_split=25, min_samples_leaf=2, max_depth=5, max_features=20, max_leaf_nodes=10,min_impurity_decrease=10)\n",
    "Dec_tree_clsf=Dec_tree_clsf.fit(X_train,y_train)\n",
    "pred=Dec_tree_clsf.predict(X_test)\n",
    "print(pred)\n",
    "print(accuracy_score(y_test,pred))"
   ]
  },
  {
   "cell_type": "code",
   "execution_count": 122,
   "id": "f050b899",
   "metadata": {},
   "outputs": [
    {
     "data": {
      "text/plain": [
       "[Text(0.5, 0.5, 'gini = 0.006\\nsamples = 14000\\nvalue = [13957, 43]')]"
      ]
     },
     "execution_count": 122,
     "metadata": {},
     "output_type": "execute_result"
    },
    {
     "data": {
      "image/png": "[encoded data removed]",
      "text/plain": [
       "<Figure size 432x288 with 1 Axes>"
      ]
     },
     "metadata": {
      "needs_background": "light"
     },
     "output_type": "display_data"
    }
   ],
   "source": [
    "from sklearn import tree\n",
    "tree.plot_tree(Dec_tree_clsf)"
   ]
  },
  {
   "cell_type": "code",
   "execution_count": null,
   "id": "6e7c98ef",
   "metadata": {},
   "outputs": [],
   "source": [
    "from sklearn.model_selection  import GridSearchCV\n",
    "from sklearn.metrics import make_scorer, accuracy_score\n",
    "\n",
    "dec_tree_clsf=DecisionTreeClassifier()\n",
    "\n",
    "parameters = {'criterion' :['gini','entropy'], \n",
    "              'splitter' :['best','random'], \n",
    "              'min_samples_split' :[1,50,100,200], \n",
    "              'min_samples_leaf' :[1,50,100,200],\n",
    "              'max_depth' : [5,9,15,20], \n",
    "              'max_features' : [10,15,29,30], \n",
    "              'max_leaf_nodes' : [15,20,25],\n",
    "              'min_impurity_decrease' :[0.1,1,]}\n",
    "\n",
    "accu_score = make_scorer(accuracy_score)\n",
    "\n",
    "gridsrCv= GridSearchCV(dec_tree_clsf,parameters, scoring=accu_score)\n",
    "\n",
    "gridsrCv=gridsrCv.fit(X_train, y_train)\n",
    "\n",
    "print(gridsrCv.best_estimator_)\n"
   ]
  },
  {
   "cell_type": "code",
   "execution_count": 133,
   "id": "7a20d98a",
   "metadata": {},
   "outputs": [
    {
     "name": "stdout",
     "output_type": "stream",
     "text": [
      "[0 0 0 ... 0 0 0]\n",
      "0.9965\n"
     ]
    }
   ],
   "source": [
    "Dec_tree_clsf = DecisionTreeClassifier(criterion='gini', \n",
    "                                       splitter='best',\n",
    "                                       max_depth=5,\n",
    "                                       max_features=10,\n",
    "                                       max_leaf_nodes=15,\n",
    "                       min_impurity_decrease=0.1, min_samples_split=50)\n",
    "Dec_tree_clsf=Dec_tree_clsf.fit(X_train,y_train)\n",
    "pred=Dec_tree_clsf.predict(X_test)\n",
    "print(pred)\n",
    "print(accuracy_score(y_test,pred))"
   ]
  },
  {
   "cell_type": "code",
   "execution_count": 134,
   "id": "ac9444ad",
   "metadata": {},
   "outputs": [
    {
     "data": {
      "text/plain": [
       "[Text(0.5, 0.5, 'gini = 0.006\\nsamples = 14000\\nvalue = [13957, 43]')]"
      ]
     },
     "execution_count": 134,
     "metadata": {},
     "output_type": "execute_result"
    },
    {
     "data": {
      "image/png": "[encoded data removed]",
      "text/plain": [
       "<Figure size 432x288 with 1 Axes>"
      ]
     },
     "metadata": {
      "needs_background": "light"
     },
     "output_type": "display_data"
    }
   ],
   "source": [
    "from sklearn import tree\n",
    "tree.plot_tree(Dec_tree_clsf)"
   ]
  },
  {
   "cell_type": "code",
   "execution_count": 130,
   "id": "610980e8",
   "metadata": {},
   "outputs": [
    {
     "name": "stdout",
     "output_type": "stream",
     "text": [
      "Collecting graphviz\n",
      "  Downloading graphviz-0.20.1-py3-none-any.whl (47 kB)\n",
      "Installing collected packages: graphviz\n",
      "Successfully installed graphviz-0.20.1\n"
     ]
    }
   ],
   "source": [
    "!pip install graphviz"
   ]
  },
  {
   "cell_type": "code",
   "execution_count": 136,
   "id": "c8a38cec",
   "metadata": {},
   "outputs": [
    {
     "ename": "ExecutableNotFound",
     "evalue": "failed to execute WindowsPath('dot'), make sure the Graphviz executables are on your systems' PATH",
     "output_type": "error",
     "traceback": [
      "\u001b[1;31m---------------------------------------------------------------------------\u001b[0m",
      "\u001b[1;31mFileNotFoundError\u001b[0m                         Traceback (most recent call last)",
      "File \u001b[1;32m~\\anaconda3\\lib\\site-packages\\graphviz\\backend\\execute.py:81\u001b[0m, in \u001b[0;36mrun_check\u001b[1;34m(cmd, input_lines, encoding, quiet, **kwargs)\u001b[0m\n\u001b[0;32m     80\u001b[0m     \u001b[38;5;28;01melse\u001b[39;00m:\n\u001b[1;32m---> 81\u001b[0m         proc \u001b[38;5;241m=\u001b[39m subprocess\u001b[38;5;241m.\u001b[39mrun(cmd, \u001b[38;5;241m*\u001b[39m\u001b[38;5;241m*\u001b[39mkwargs)\n\u001b[0;32m     82\u001b[0m \u001b[38;5;28;01mexcept\u001b[39;00m \u001b[38;5;167;01mOSError\u001b[39;00m \u001b[38;5;28;01mas\u001b[39;00m e:\n",
      "File \u001b[1;32m~\\anaconda3\\lib\\subprocess.py:505\u001b[0m, in \u001b[0;36mrun\u001b[1;34m(input, capture_output, timeout, check, *popenargs, **kwargs)\u001b[0m\n\u001b[0;32m    503\u001b[0m     kwargs[\u001b[38;5;124m'\u001b[39m\u001b[38;5;124mstderr\u001b[39m\u001b[38;5;124m'\u001b[39m] \u001b[38;5;241m=\u001b[39m PIPE\n\u001b[1;32m--> 505\u001b[0m \u001b[38;5;28;01mwith\u001b[39;00m Popen(\u001b[38;5;241m*\u001b[39mpopenargs, \u001b[38;5;241m*\u001b[39m\u001b[38;5;241m*\u001b[39mkwargs) \u001b[38;5;28;01mas\u001b[39;00m process:\n\u001b[0;32m    506\u001b[0m     \u001b[38;5;28;01mtry\u001b[39;00m:\n",
      "File \u001b[1;32m~\\anaconda3\\lib\\subprocess.py:951\u001b[0m, in \u001b[0;36mPopen.__init__\u001b[1;34m(self, args, bufsize, executable, stdin, stdout, stderr, preexec_fn, close_fds, shell, cwd, env, universal_newlines, startupinfo, creationflags, restore_signals, start_new_session, pass_fds, user, group, extra_groups, encoding, errors, text, umask)\u001b[0m\n\u001b[0;32m    948\u001b[0m             \u001b[38;5;28mself\u001b[39m\u001b[38;5;241m.\u001b[39mstderr \u001b[38;5;241m=\u001b[39m io\u001b[38;5;241m.\u001b[39mTextIOWrapper(\u001b[38;5;28mself\u001b[39m\u001b[38;5;241m.\u001b[39mstderr,\n\u001b[0;32m    949\u001b[0m                     encoding\u001b[38;5;241m=\u001b[39mencoding, errors\u001b[38;5;241m=\u001b[39merrors)\n\u001b[1;32m--> 951\u001b[0m     \u001b[38;5;28;43mself\u001b[39;49m\u001b[38;5;241;43m.\u001b[39;49m\u001b[43m_execute_child\u001b[49m\u001b[43m(\u001b[49m\u001b[43margs\u001b[49m\u001b[43m,\u001b[49m\u001b[43m \u001b[49m\u001b[43mexecutable\u001b[49m\u001b[43m,\u001b[49m\u001b[43m \u001b[49m\u001b[43mpreexec_fn\u001b[49m\u001b[43m,\u001b[49m\u001b[43m \u001b[49m\u001b[43mclose_fds\u001b[49m\u001b[43m,\u001b[49m\n\u001b[0;32m    952\u001b[0m \u001b[43m                        \u001b[49m\u001b[43mpass_fds\u001b[49m\u001b[43m,\u001b[49m\u001b[43m \u001b[49m\u001b[43mcwd\u001b[49m\u001b[43m,\u001b[49m\u001b[43m \u001b[49m\u001b[43menv\u001b[49m\u001b[43m,\u001b[49m\n\u001b[0;32m    953\u001b[0m \u001b[43m                        \u001b[49m\u001b[43mstartupinfo\u001b[49m\u001b[43m,\u001b[49m\u001b[43m \u001b[49m\u001b[43mcreationflags\u001b[49m\u001b[43m,\u001b[49m\u001b[43m \u001b[49m\u001b[43mshell\u001b[49m\u001b[43m,\u001b[49m\n\u001b[0;32m    954\u001b[0m \u001b[43m                        \u001b[49m\u001b[43mp2cread\u001b[49m\u001b[43m,\u001b[49m\u001b[43m \u001b[49m\u001b[43mp2cwrite\u001b[49m\u001b[43m,\u001b[49m\n\u001b[0;32m    955\u001b[0m \u001b[43m                        \u001b[49m\u001b[43mc2pread\u001b[49m\u001b[43m,\u001b[49m\u001b[43m \u001b[49m\u001b[43mc2pwrite\u001b[49m\u001b[43m,\u001b[49m\n\u001b[0;32m    956\u001b[0m \u001b[43m                        \u001b[49m\u001b[43merrread\u001b[49m\u001b[43m,\u001b[49m\u001b[43m \u001b[49m\u001b[43merrwrite\u001b[49m\u001b[43m,\u001b[49m\n\u001b[0;32m    957\u001b[0m \u001b[43m                        \u001b[49m\u001b[43mrestore_signals\u001b[49m\u001b[43m,\u001b[49m\n\u001b[0;32m    958\u001b[0m \u001b[43m                        \u001b[49m\u001b[43mgid\u001b[49m\u001b[43m,\u001b[49m\u001b[43m \u001b[49m\u001b[43mgids\u001b[49m\u001b[43m,\u001b[49m\u001b[43m \u001b[49m\u001b[43muid\u001b[49m\u001b[43m,\u001b[49m\u001b[43m \u001b[49m\u001b[43mumask\u001b[49m\u001b[43m,\u001b[49m\n\u001b[0;32m    959\u001b[0m \u001b[43m                        \u001b[49m\u001b[43mstart_new_session\u001b[49m\u001b[43m)\u001b[49m\n\u001b[0;32m    960\u001b[0m \u001b[38;5;28;01mexcept\u001b[39;00m:\n\u001b[0;32m    961\u001b[0m     \u001b[38;5;66;03m# Cleanup if the child failed starting.\u001b[39;00m\n",
      "File \u001b[1;32m~\\anaconda3\\lib\\subprocess.py:1420\u001b[0m, in \u001b[0;36mPopen._execute_child\u001b[1;34m(self, args, executable, preexec_fn, close_fds, pass_fds, cwd, env, startupinfo, creationflags, shell, p2cread, p2cwrite, c2pread, c2pwrite, errread, errwrite, unused_restore_signals, unused_gid, unused_gids, unused_uid, unused_umask, unused_start_new_session)\u001b[0m\n\u001b[0;32m   1419\u001b[0m \u001b[38;5;28;01mtry\u001b[39;00m:\n\u001b[1;32m-> 1420\u001b[0m     hp, ht, pid, tid \u001b[38;5;241m=\u001b[39m \u001b[43m_winapi\u001b[49m\u001b[38;5;241;43m.\u001b[39;49m\u001b[43mCreateProcess\u001b[49m\u001b[43m(\u001b[49m\u001b[43mexecutable\u001b[49m\u001b[43m,\u001b[49m\u001b[43m \u001b[49m\u001b[43margs\u001b[49m\u001b[43m,\u001b[49m\n\u001b[0;32m   1421\u001b[0m \u001b[43m                             \u001b[49m\u001b[38;5;66;43;03m# no special security\u001b[39;49;00m\n\u001b[0;32m   1422\u001b[0m \u001b[43m                             \u001b[49m\u001b[38;5;28;43;01mNone\u001b[39;49;00m\u001b[43m,\u001b[49m\u001b[43m \u001b[49m\u001b[38;5;28;43;01mNone\u001b[39;49;00m\u001b[43m,\u001b[49m\n\u001b[0;32m   1423\u001b[0m \u001b[43m                             \u001b[49m\u001b[38;5;28;43mint\u001b[39;49m\u001b[43m(\u001b[49m\u001b[38;5;129;43;01mnot\u001b[39;49;00m\u001b[43m \u001b[49m\u001b[43mclose_fds\u001b[49m\u001b[43m)\u001b[49m\u001b[43m,\u001b[49m\n\u001b[0;32m   1424\u001b[0m \u001b[43m                             \u001b[49m\u001b[43mcreationflags\u001b[49m\u001b[43m,\u001b[49m\n\u001b[0;32m   1425\u001b[0m \u001b[43m                             \u001b[49m\u001b[43menv\u001b[49m\u001b[43m,\u001b[49m\n\u001b[0;32m   1426\u001b[0m \u001b[43m                             \u001b[49m\u001b[43mcwd\u001b[49m\u001b[43m,\u001b[49m\n\u001b[0;32m   1427\u001b[0m \u001b[43m                             \u001b[49m\u001b[43mstartupinfo\u001b[49m\u001b[43m)\u001b[49m\n\u001b[0;32m   1428\u001b[0m \u001b[38;5;28;01mfinally\u001b[39;00m:\n\u001b[0;32m   1429\u001b[0m     \u001b[38;5;66;03m# Child is launched. Close the parent's copy of those pipe\u001b[39;00m\n\u001b[0;32m   1430\u001b[0m     \u001b[38;5;66;03m# handles that only the child should have open.  You need\u001b[39;00m\n\u001b[1;32m   (...)\u001b[0m\n\u001b[0;32m   1433\u001b[0m     \u001b[38;5;66;03m# pipe will not close when the child process exits and the\u001b[39;00m\n\u001b[0;32m   1434\u001b[0m     \u001b[38;5;66;03m# ReadFile will hang.\u001b[39;00m\n",
      "\u001b[1;31mFileNotFoundError\u001b[0m: [WinError 2] The system cannot find the file specified",
      "\nThe above exception was the direct cause of the following exception:\n",
      "\u001b[1;31mExecutableNotFound\u001b[0m                        Traceback (most recent call last)",
      "Input \u001b[1;32mIn [136]\u001b[0m, in \u001b[0;36m<cell line: 4>\u001b[1;34m()\u001b[0m\n\u001b[0;32m      2\u001b[0m dot_data \u001b[38;5;241m=\u001b[39m tree\u001b[38;5;241m.\u001b[39mexport_graphviz(Dec_tree_clsf) \n\u001b[0;32m      3\u001b[0m graph \u001b[38;5;241m=\u001b[39m graphviz\u001b[38;5;241m.\u001b[39mSource(dot_data) \n\u001b[1;32m----> 4\u001b[0m \u001b[43mgraph\u001b[49m\u001b[38;5;241;43m.\u001b[39;49m\u001b[43mrender\u001b[49m\u001b[43m(\u001b[49m\u001b[38;5;124;43m\"\u001b[39;49m\u001b[38;5;124;43mfraudCredictCard\u001b[39;49m\u001b[38;5;124;43m\"\u001b[39;49m\u001b[43m)\u001b[49m\n",
      "File \u001b[1;32m~\\anaconda3\\lib\\site-packages\\graphviz\\_tools.py:171\u001b[0m, in \u001b[0;36mdeprecate_positional_args.<locals>.decorator.<locals>.wrapper\u001b[1;34m(*args, **kwargs)\u001b[0m\n\u001b[0;32m    162\u001b[0m     wanted \u001b[38;5;241m=\u001b[39m \u001b[38;5;124m'\u001b[39m\u001b[38;5;124m, \u001b[39m\u001b[38;5;124m'\u001b[39m\u001b[38;5;241m.\u001b[39mjoin(\u001b[38;5;124mf\u001b[39m\u001b[38;5;124m'\u001b[39m\u001b[38;5;132;01m{\u001b[39;00mname\u001b[38;5;132;01m}\u001b[39;00m\u001b[38;5;124m=\u001b[39m\u001b[38;5;132;01m{\u001b[39;00mvalue\u001b[38;5;132;01m!r}\u001b[39;00m\u001b[38;5;124m'\u001b[39m\n\u001b[0;32m    163\u001b[0m                        \u001b[38;5;28;01mfor\u001b[39;00m name, value \u001b[38;5;129;01min\u001b[39;00m deprecated\u001b[38;5;241m.\u001b[39mitems())\n\u001b[0;32m    164\u001b[0m     warnings\u001b[38;5;241m.\u001b[39mwarn(\u001b[38;5;124mf\u001b[39m\u001b[38;5;124m'\u001b[39m\u001b[38;5;124mThe signature of \u001b[39m\u001b[38;5;132;01m{\u001b[39;00mfunc\u001b[38;5;241m.\u001b[39m\u001b[38;5;18m__name__\u001b[39m\u001b[38;5;132;01m}\u001b[39;00m\u001b[38;5;124m will be reduced\u001b[39m\u001b[38;5;124m'\u001b[39m\n\u001b[0;32m    165\u001b[0m                   \u001b[38;5;124mf\u001b[39m\u001b[38;5;124m'\u001b[39m\u001b[38;5;124m to \u001b[39m\u001b[38;5;132;01m{\u001b[39;00msupported_number\u001b[38;5;132;01m}\u001b[39;00m\u001b[38;5;124m positional args\u001b[39m\u001b[38;5;124m'\u001b[39m\n\u001b[0;32m    166\u001b[0m                   \u001b[38;5;124mf\u001b[39m\u001b[38;5;124m'\u001b[39m\u001b[38;5;124m \u001b[39m\u001b[38;5;132;01m{\u001b[39;00m\u001b[38;5;28mlist\u001b[39m(supported)\u001b[38;5;132;01m}\u001b[39;00m\u001b[38;5;124m: pass \u001b[39m\u001b[38;5;132;01m{\u001b[39;00mwanted\u001b[38;5;132;01m}\u001b[39;00m\u001b[38;5;124m'\u001b[39m\n\u001b[0;32m    167\u001b[0m                   \u001b[38;5;124m'\u001b[39m\u001b[38;5;124m as keyword arg(s)\u001b[39m\u001b[38;5;124m'\u001b[39m,\n\u001b[0;32m    168\u001b[0m                   stacklevel\u001b[38;5;241m=\u001b[39mstacklevel,\n\u001b[0;32m    169\u001b[0m                   category\u001b[38;5;241m=\u001b[39mcategory)\n\u001b[1;32m--> 171\u001b[0m \u001b[38;5;28;01mreturn\u001b[39;00m func(\u001b[38;5;241m*\u001b[39margs, \u001b[38;5;241m*\u001b[39m\u001b[38;5;241m*\u001b[39mkwargs)\n",
      "File \u001b[1;32m~\\anaconda3\\lib\\site-packages\\graphviz\\rendering.py:122\u001b[0m, in \u001b[0;36mRender.render\u001b[1;34m(self, filename, directory, view, cleanup, format, renderer, formatter, neato_no_op, quiet, quiet_view, outfile, engine, raise_if_result_exists, overwrite_source)\u001b[0m\n\u001b[0;32m    118\u001b[0m filepath \u001b[38;5;241m=\u001b[39m \u001b[38;5;28mself\u001b[39m\u001b[38;5;241m.\u001b[39msave(filename, directory\u001b[38;5;241m=\u001b[39mdirectory, skip_existing\u001b[38;5;241m=\u001b[39m\u001b[38;5;28;01mNone\u001b[39;00m)\n\u001b[0;32m    120\u001b[0m args\u001b[38;5;241m.\u001b[39mappend(filepath)\n\u001b[1;32m--> 122\u001b[0m rendered \u001b[38;5;241m=\u001b[39m \u001b[38;5;28mself\u001b[39m\u001b[38;5;241m.\u001b[39m_render(\u001b[38;5;241m*\u001b[39margs, \u001b[38;5;241m*\u001b[39m\u001b[38;5;241m*\u001b[39mkwargs)\n\u001b[0;32m    124\u001b[0m \u001b[38;5;28;01mif\u001b[39;00m cleanup:\n\u001b[0;32m    125\u001b[0m     log\u001b[38;5;241m.\u001b[39mdebug(\u001b[38;5;124m'\u001b[39m\u001b[38;5;124mdelete \u001b[39m\u001b[38;5;132;01m%r\u001b[39;00m\u001b[38;5;124m'\u001b[39m, filepath)\n",
      "File \u001b[1;32m~\\anaconda3\\lib\\site-packages\\graphviz\\_tools.py:171\u001b[0m, in \u001b[0;36mdeprecate_positional_args.<locals>.decorator.<locals>.wrapper\u001b[1;34m(*args, **kwargs)\u001b[0m\n\u001b[0;32m    162\u001b[0m     wanted \u001b[38;5;241m=\u001b[39m \u001b[38;5;124m'\u001b[39m\u001b[38;5;124m, \u001b[39m\u001b[38;5;124m'\u001b[39m\u001b[38;5;241m.\u001b[39mjoin(\u001b[38;5;124mf\u001b[39m\u001b[38;5;124m'\u001b[39m\u001b[38;5;132;01m{\u001b[39;00mname\u001b[38;5;132;01m}\u001b[39;00m\u001b[38;5;124m=\u001b[39m\u001b[38;5;132;01m{\u001b[39;00mvalue\u001b[38;5;132;01m!r}\u001b[39;00m\u001b[38;5;124m'\u001b[39m\n\u001b[0;32m    163\u001b[0m                        \u001b[38;5;28;01mfor\u001b[39;00m name, value \u001b[38;5;129;01min\u001b[39;00m deprecated\u001b[38;5;241m.\u001b[39mitems())\n\u001b[0;32m    164\u001b[0m     warnings\u001b[38;5;241m.\u001b[39mwarn(\u001b[38;5;124mf\u001b[39m\u001b[38;5;124m'\u001b[39m\u001b[38;5;124mThe signature of \u001b[39m\u001b[38;5;132;01m{\u001b[39;00mfunc\u001b[38;5;241m.\u001b[39m\u001b[38;5;18m__name__\u001b[39m\u001b[38;5;132;01m}\u001b[39;00m\u001b[38;5;124m will be reduced\u001b[39m\u001b[38;5;124m'\u001b[39m\n\u001b[0;32m    165\u001b[0m                   \u001b[38;5;124mf\u001b[39m\u001b[38;5;124m'\u001b[39m\u001b[38;5;124m to \u001b[39m\u001b[38;5;132;01m{\u001b[39;00msupported_number\u001b[38;5;132;01m}\u001b[39;00m\u001b[38;5;124m positional args\u001b[39m\u001b[38;5;124m'\u001b[39m\n\u001b[0;32m    166\u001b[0m                   \u001b[38;5;124mf\u001b[39m\u001b[38;5;124m'\u001b[39m\u001b[38;5;124m \u001b[39m\u001b[38;5;132;01m{\u001b[39;00m\u001b[38;5;28mlist\u001b[39m(supported)\u001b[38;5;132;01m}\u001b[39;00m\u001b[38;5;124m: pass \u001b[39m\u001b[38;5;132;01m{\u001b[39;00mwanted\u001b[38;5;132;01m}\u001b[39;00m\u001b[38;5;124m'\u001b[39m\n\u001b[0;32m    167\u001b[0m                   \u001b[38;5;124m'\u001b[39m\u001b[38;5;124m as keyword arg(s)\u001b[39m\u001b[38;5;124m'\u001b[39m,\n\u001b[0;32m    168\u001b[0m                   stacklevel\u001b[38;5;241m=\u001b[39mstacklevel,\n\u001b[0;32m    169\u001b[0m                   category\u001b[38;5;241m=\u001b[39mcategory)\n\u001b[1;32m--> 171\u001b[0m \u001b[38;5;28;01mreturn\u001b[39;00m func(\u001b[38;5;241m*\u001b[39margs, \u001b[38;5;241m*\u001b[39m\u001b[38;5;241m*\u001b[39mkwargs)\n",
      "File \u001b[1;32m~\\anaconda3\\lib\\site-packages\\graphviz\\backend\\rendering.py:324\u001b[0m, in \u001b[0;36mrender\u001b[1;34m(engine, format, filepath, renderer, formatter, neato_no_op, quiet, outfile, raise_if_result_exists, overwrite_filepath)\u001b[0m\n\u001b[0;32m    320\u001b[0m     \u001b[38;5;28;01mraise\u001b[39;00m exceptions\u001b[38;5;241m.\u001b[39mFileExistsError(\u001b[38;5;124mf\u001b[39m\u001b[38;5;124m'\u001b[39m\u001b[38;5;124moutput file exists: \u001b[39m\u001b[38;5;132;01m{\u001b[39;00mos\u001b[38;5;241m.\u001b[39mfspath(outfile)\u001b[38;5;132;01m!r}\u001b[39;00m\u001b[38;5;124m'\u001b[39m)\n\u001b[0;32m    322\u001b[0m cmd \u001b[38;5;241m+\u001b[39m\u001b[38;5;241m=\u001b[39m args\n\u001b[1;32m--> 324\u001b[0m \u001b[43mexecute\u001b[49m\u001b[38;5;241;43m.\u001b[39;49m\u001b[43mrun_check\u001b[49m\u001b[43m(\u001b[49m\u001b[43mcmd\u001b[49m\u001b[43m,\u001b[49m\n\u001b[0;32m    325\u001b[0m \u001b[43m                  \u001b[49m\u001b[43mcwd\u001b[49m\u001b[38;5;241;43m=\u001b[39;49m\u001b[43mfilepath\u001b[49m\u001b[38;5;241;43m.\u001b[39;49m\u001b[43mparent\u001b[49m\u001b[43m \u001b[49m\u001b[38;5;28;43;01mif\u001b[39;49;00m\u001b[43m \u001b[49m\u001b[43mfilepath\u001b[49m\u001b[38;5;241;43m.\u001b[39;49m\u001b[43mparent\u001b[49m\u001b[38;5;241;43m.\u001b[39;49m\u001b[43mparts\u001b[49m\u001b[43m \u001b[49m\u001b[38;5;28;43;01melse\u001b[39;49;00m\u001b[43m \u001b[49m\u001b[38;5;28;43;01mNone\u001b[39;49;00m\u001b[43m,\u001b[49m\n\u001b[0;32m    326\u001b[0m \u001b[43m                  \u001b[49m\u001b[43mquiet\u001b[49m\u001b[38;5;241;43m=\u001b[39;49m\u001b[43mquiet\u001b[49m\u001b[43m,\u001b[49m\n\u001b[0;32m    327\u001b[0m \u001b[43m                  \u001b[49m\u001b[43mcapture_output\u001b[49m\u001b[38;5;241;43m=\u001b[39;49m\u001b[38;5;28;43;01mTrue\u001b[39;49;00m\u001b[43m)\u001b[49m\n\u001b[0;32m    329\u001b[0m \u001b[38;5;28;01mreturn\u001b[39;00m os\u001b[38;5;241m.\u001b[39mfspath(outfile)\n",
      "File \u001b[1;32m~\\anaconda3\\lib\\site-packages\\graphviz\\backend\\execute.py:84\u001b[0m, in \u001b[0;36mrun_check\u001b[1;34m(cmd, input_lines, encoding, quiet, **kwargs)\u001b[0m\n\u001b[0;32m     82\u001b[0m \u001b[38;5;28;01mexcept\u001b[39;00m \u001b[38;5;167;01mOSError\u001b[39;00m \u001b[38;5;28;01mas\u001b[39;00m e:\n\u001b[0;32m     83\u001b[0m     \u001b[38;5;28;01mif\u001b[39;00m e\u001b[38;5;241m.\u001b[39merrno \u001b[38;5;241m==\u001b[39m errno\u001b[38;5;241m.\u001b[39mENOENT:\n\u001b[1;32m---> 84\u001b[0m         \u001b[38;5;28;01mraise\u001b[39;00m ExecutableNotFound(cmd) \u001b[38;5;28;01mfrom\u001b[39;00m \u001b[38;5;21;01me\u001b[39;00m\n\u001b[0;32m     85\u001b[0m     \u001b[38;5;28;01mraise\u001b[39;00m\n\u001b[0;32m     87\u001b[0m \u001b[38;5;28;01mif\u001b[39;00m \u001b[38;5;129;01mnot\u001b[39;00m quiet \u001b[38;5;129;01mand\u001b[39;00m proc\u001b[38;5;241m.\u001b[39mstderr:\n",
      "\u001b[1;31mExecutableNotFound\u001b[0m: failed to execute WindowsPath('dot'), make sure the Graphviz executables are on your systems' PATH"
     ]
    }
   ],
   "source": [
    "import graphviz \n",
    "dot_data = tree.export_graphviz(Dec_tree_clsf) \n",
    "graph = graphviz.Source(dot_data) \n",
    "graph.render(\"fraudCredictCard\") "
   ]
  },
  {
   "cell_type": "code",
   "execution_count": null,
   "id": "2879bf08",
   "metadata": {},
   "outputs": [],
   "source": []
  }
 ],
 "metadata": {
  "kernelspec": {
   "display_name": "Python 3 (ipykernel)",
   "language": "python",
   "name": "python3"
  },
  "language_info": {
   "codemirror_mode": {
    "name": "ipython",
    "version": 3
   },
   "file_extension": ".py",
   "mimetype": "text/x-python",
   "name": "python",
   "nbconvert_exporter": "python",
   "pygments_lexer": "ipython3",
   "version": "3.9.12"
  }
 },
 "nbformat": 4,
 "nbformat_minor": 5
}
